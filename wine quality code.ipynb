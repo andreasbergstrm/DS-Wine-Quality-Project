{
 "cells": [
  {
   "cell_type": "code",
   "execution_count": 1,
   "metadata": {},
   "outputs": [],
   "source": [
    "import pandas as pd\n",
    "import seaborn as sns\n",
    "import matplotlib.pyplot as plt\n",
    "import numpy as np\n",
    "%matplotlib inline"
   ]
  },
  {
   "cell_type": "code",
   "execution_count": 2,
   "metadata": {},
   "outputs": [],
   "source": [
    "df = pd.read_csv(\"WineQT.csv\")"
   ]
  },
  {
   "cell_type": "code",
   "execution_count": 3,
   "metadata": {},
   "outputs": [
    {
     "data": {
      "text/html": [
       "<div>\n",
       "<style scoped>\n",
       "    .dataframe tbody tr th:only-of-type {\n",
       "        vertical-align: middle;\n",
       "    }\n",
       "\n",
       "    .dataframe tbody tr th {\n",
       "        vertical-align: top;\n",
       "    }\n",
       "\n",
       "    .dataframe thead th {\n",
       "        text-align: right;\n",
       "    }\n",
       "</style>\n",
       "<table border=\"1\" class=\"dataframe\">\n",
       "  <thead>\n",
       "    <tr style=\"text-align: right;\">\n",
       "      <th></th>\n",
       "      <th>fixed acidity</th>\n",
       "      <th>volatile acidity</th>\n",
       "      <th>citric acid</th>\n",
       "      <th>residual sugar</th>\n",
       "      <th>chlorides</th>\n",
       "      <th>free sulfur dioxide</th>\n",
       "      <th>total sulfur dioxide</th>\n",
       "      <th>density</th>\n",
       "      <th>pH</th>\n",
       "      <th>sulphates</th>\n",
       "      <th>alcohol</th>\n",
       "      <th>quality</th>\n",
       "      <th>Id</th>\n",
       "    </tr>\n",
       "  </thead>\n",
       "  <tbody>\n",
       "    <tr>\n",
       "      <th>0</th>\n",
       "      <td>7.4</td>\n",
       "      <td>0.70</td>\n",
       "      <td>0.00</td>\n",
       "      <td>1.9</td>\n",
       "      <td>0.076</td>\n",
       "      <td>11.0</td>\n",
       "      <td>34.0</td>\n",
       "      <td>0.9978</td>\n",
       "      <td>3.51</td>\n",
       "      <td>0.56</td>\n",
       "      <td>9.4</td>\n",
       "      <td>5</td>\n",
       "      <td>0</td>\n",
       "    </tr>\n",
       "    <tr>\n",
       "      <th>1</th>\n",
       "      <td>7.8</td>\n",
       "      <td>0.88</td>\n",
       "      <td>0.00</td>\n",
       "      <td>2.6</td>\n",
       "      <td>0.098</td>\n",
       "      <td>25.0</td>\n",
       "      <td>67.0</td>\n",
       "      <td>0.9968</td>\n",
       "      <td>3.20</td>\n",
       "      <td>0.68</td>\n",
       "      <td>9.8</td>\n",
       "      <td>5</td>\n",
       "      <td>1</td>\n",
       "    </tr>\n",
       "    <tr>\n",
       "      <th>2</th>\n",
       "      <td>7.8</td>\n",
       "      <td>0.76</td>\n",
       "      <td>0.04</td>\n",
       "      <td>2.3</td>\n",
       "      <td>0.092</td>\n",
       "      <td>15.0</td>\n",
       "      <td>54.0</td>\n",
       "      <td>0.9970</td>\n",
       "      <td>3.26</td>\n",
       "      <td>0.65</td>\n",
       "      <td>9.8</td>\n",
       "      <td>5</td>\n",
       "      <td>2</td>\n",
       "    </tr>\n",
       "    <tr>\n",
       "      <th>3</th>\n",
       "      <td>11.2</td>\n",
       "      <td>0.28</td>\n",
       "      <td>0.56</td>\n",
       "      <td>1.9</td>\n",
       "      <td>0.075</td>\n",
       "      <td>17.0</td>\n",
       "      <td>60.0</td>\n",
       "      <td>0.9980</td>\n",
       "      <td>3.16</td>\n",
       "      <td>0.58</td>\n",
       "      <td>9.8</td>\n",
       "      <td>6</td>\n",
       "      <td>3</td>\n",
       "    </tr>\n",
       "    <tr>\n",
       "      <th>4</th>\n",
       "      <td>7.4</td>\n",
       "      <td>0.70</td>\n",
       "      <td>0.00</td>\n",
       "      <td>1.9</td>\n",
       "      <td>0.076</td>\n",
       "      <td>11.0</td>\n",
       "      <td>34.0</td>\n",
       "      <td>0.9978</td>\n",
       "      <td>3.51</td>\n",
       "      <td>0.56</td>\n",
       "      <td>9.4</td>\n",
       "      <td>5</td>\n",
       "      <td>4</td>\n",
       "    </tr>\n",
       "  </tbody>\n",
       "</table>\n",
       "</div>"
      ],
      "text/plain": [
       "   fixed acidity  volatile acidity  citric acid  residual sugar  chlorides  \\\n",
       "0            7.4              0.70         0.00             1.9      0.076   \n",
       "1            7.8              0.88         0.00             2.6      0.098   \n",
       "2            7.8              0.76         0.04             2.3      0.092   \n",
       "3           11.2              0.28         0.56             1.9      0.075   \n",
       "4            7.4              0.70         0.00             1.9      0.076   \n",
       "\n",
       "   free sulfur dioxide  total sulfur dioxide  density    pH  sulphates  \\\n",
       "0                 11.0                  34.0   0.9978  3.51       0.56   \n",
       "1                 25.0                  67.0   0.9968  3.20       0.68   \n",
       "2                 15.0                  54.0   0.9970  3.26       0.65   \n",
       "3                 17.0                  60.0   0.9980  3.16       0.58   \n",
       "4                 11.0                  34.0   0.9978  3.51       0.56   \n",
       "\n",
       "   alcohol  quality  Id  \n",
       "0      9.4        5   0  \n",
       "1      9.8        5   1  \n",
       "2      9.8        5   2  \n",
       "3      9.8        6   3  \n",
       "4      9.4        5   4  "
      ]
     },
     "execution_count": 3,
     "metadata": {},
     "output_type": "execute_result"
    }
   ],
   "source": [
    "df.head()"
   ]
  },
  {
   "cell_type": "markdown",
   "metadata": {},
   "source": [
    "# Part 1: Data Cleaning"
   ]
  },
  {
   "cell_type": "code",
   "execution_count": 4,
   "metadata": {},
   "outputs": [],
   "source": [
    "#Create function which shows if any column has NaN's"
   ]
  },
  {
   "cell_type": "code",
   "execution_count": 5,
   "metadata": {},
   "outputs": [
    {
     "name": "stdout",
     "output_type": "stream",
     "text": [
      "*******\n",
      "No NaNs in dataframe\n",
      "*******\n",
      "\n"
     ]
    }
   ],
   "source": [
    "def check_NaNs(df):\n",
    "    print('*******')\n",
    "    count_nulls = df.isnull().sum().sum()\n",
    "    if count_nulls > 0:\n",
    "        for col in df.columns:\n",
    "            print('NaNs in', col + \": \", df[col].isnull().sum())\n",
    "    else: \n",
    "        print('No NaNs in dataframe')\n",
    "    print('*******')\n",
    "    print('')\n",
    "check_NaNs(df)"
   ]
  },
  {
   "cell_type": "code",
   "execution_count": 6,
   "metadata": {},
   "outputs": [],
   "source": [
    "# Id's are unhelpful, so remove from dataset\n",
    "df = df.drop(columns='Id')"
   ]
  },
  {
   "cell_type": "markdown",
   "metadata": {},
   "source": [
    "No additional cleaning, imputation or feature engineering necessary."
   ]
  },
  {
   "cell_type": "markdown",
   "metadata": {},
   "source": [
    "# Part 2: EDA"
   ]
  },
  {
   "cell_type": "code",
   "execution_count": 7,
   "metadata": {},
   "outputs": [
    {
     "data": {
      "text/html": [
       "<div>\n",
       "<style scoped>\n",
       "    .dataframe tbody tr th:only-of-type {\n",
       "        vertical-align: middle;\n",
       "    }\n",
       "\n",
       "    .dataframe tbody tr th {\n",
       "        vertical-align: top;\n",
       "    }\n",
       "\n",
       "    .dataframe thead th {\n",
       "        text-align: right;\n",
       "    }\n",
       "</style>\n",
       "<table border=\"1\" class=\"dataframe\">\n",
       "  <thead>\n",
       "    <tr style=\"text-align: right;\">\n",
       "      <th></th>\n",
       "      <th>fixed acidity</th>\n",
       "      <th>volatile acidity</th>\n",
       "      <th>citric acid</th>\n",
       "      <th>residual sugar</th>\n",
       "      <th>chlorides</th>\n",
       "      <th>free sulfur dioxide</th>\n",
       "      <th>total sulfur dioxide</th>\n",
       "      <th>density</th>\n",
       "      <th>pH</th>\n",
       "      <th>sulphates</th>\n",
       "      <th>alcohol</th>\n",
       "      <th>quality</th>\n",
       "    </tr>\n",
       "  </thead>\n",
       "  <tbody>\n",
       "    <tr>\n",
       "      <th>count</th>\n",
       "      <td>1143.000000</td>\n",
       "      <td>1143.000000</td>\n",
       "      <td>1143.000000</td>\n",
       "      <td>1143.000000</td>\n",
       "      <td>1143.000000</td>\n",
       "      <td>1143.000000</td>\n",
       "      <td>1143.000000</td>\n",
       "      <td>1143.000000</td>\n",
       "      <td>1143.000000</td>\n",
       "      <td>1143.000000</td>\n",
       "      <td>1143.000000</td>\n",
       "      <td>1143.000000</td>\n",
       "    </tr>\n",
       "    <tr>\n",
       "      <th>mean</th>\n",
       "      <td>8.311111</td>\n",
       "      <td>0.531339</td>\n",
       "      <td>0.268364</td>\n",
       "      <td>2.532152</td>\n",
       "      <td>0.086933</td>\n",
       "      <td>15.615486</td>\n",
       "      <td>45.914698</td>\n",
       "      <td>0.996730</td>\n",
       "      <td>3.311015</td>\n",
       "      <td>0.657708</td>\n",
       "      <td>10.442111</td>\n",
       "      <td>5.657043</td>\n",
       "    </tr>\n",
       "    <tr>\n",
       "      <th>std</th>\n",
       "      <td>1.747595</td>\n",
       "      <td>0.179633</td>\n",
       "      <td>0.196686</td>\n",
       "      <td>1.355917</td>\n",
       "      <td>0.047267</td>\n",
       "      <td>10.250486</td>\n",
       "      <td>32.782130</td>\n",
       "      <td>0.001925</td>\n",
       "      <td>0.156664</td>\n",
       "      <td>0.170399</td>\n",
       "      <td>1.082196</td>\n",
       "      <td>0.805824</td>\n",
       "    </tr>\n",
       "    <tr>\n",
       "      <th>min</th>\n",
       "      <td>4.600000</td>\n",
       "      <td>0.120000</td>\n",
       "      <td>0.000000</td>\n",
       "      <td>0.900000</td>\n",
       "      <td>0.012000</td>\n",
       "      <td>1.000000</td>\n",
       "      <td>6.000000</td>\n",
       "      <td>0.990070</td>\n",
       "      <td>2.740000</td>\n",
       "      <td>0.330000</td>\n",
       "      <td>8.400000</td>\n",
       "      <td>3.000000</td>\n",
       "    </tr>\n",
       "    <tr>\n",
       "      <th>25%</th>\n",
       "      <td>7.100000</td>\n",
       "      <td>0.392500</td>\n",
       "      <td>0.090000</td>\n",
       "      <td>1.900000</td>\n",
       "      <td>0.070000</td>\n",
       "      <td>7.000000</td>\n",
       "      <td>21.000000</td>\n",
       "      <td>0.995570</td>\n",
       "      <td>3.205000</td>\n",
       "      <td>0.550000</td>\n",
       "      <td>9.500000</td>\n",
       "      <td>5.000000</td>\n",
       "    </tr>\n",
       "    <tr>\n",
       "      <th>50%</th>\n",
       "      <td>7.900000</td>\n",
       "      <td>0.520000</td>\n",
       "      <td>0.250000</td>\n",
       "      <td>2.200000</td>\n",
       "      <td>0.079000</td>\n",
       "      <td>13.000000</td>\n",
       "      <td>37.000000</td>\n",
       "      <td>0.996680</td>\n",
       "      <td>3.310000</td>\n",
       "      <td>0.620000</td>\n",
       "      <td>10.200000</td>\n",
       "      <td>6.000000</td>\n",
       "    </tr>\n",
       "    <tr>\n",
       "      <th>75%</th>\n",
       "      <td>9.100000</td>\n",
       "      <td>0.640000</td>\n",
       "      <td>0.420000</td>\n",
       "      <td>2.600000</td>\n",
       "      <td>0.090000</td>\n",
       "      <td>21.000000</td>\n",
       "      <td>61.000000</td>\n",
       "      <td>0.997845</td>\n",
       "      <td>3.400000</td>\n",
       "      <td>0.730000</td>\n",
       "      <td>11.100000</td>\n",
       "      <td>6.000000</td>\n",
       "    </tr>\n",
       "    <tr>\n",
       "      <th>max</th>\n",
       "      <td>15.900000</td>\n",
       "      <td>1.580000</td>\n",
       "      <td>1.000000</td>\n",
       "      <td>15.500000</td>\n",
       "      <td>0.611000</td>\n",
       "      <td>68.000000</td>\n",
       "      <td>289.000000</td>\n",
       "      <td>1.003690</td>\n",
       "      <td>4.010000</td>\n",
       "      <td>2.000000</td>\n",
       "      <td>14.900000</td>\n",
       "      <td>8.000000</td>\n",
       "    </tr>\n",
       "  </tbody>\n",
       "</table>\n",
       "</div>"
      ],
      "text/plain": [
       "       fixed acidity  volatile acidity  citric acid  residual sugar  \\\n",
       "count    1143.000000       1143.000000  1143.000000     1143.000000   \n",
       "mean        8.311111          0.531339     0.268364        2.532152   \n",
       "std         1.747595          0.179633     0.196686        1.355917   \n",
       "min         4.600000          0.120000     0.000000        0.900000   \n",
       "25%         7.100000          0.392500     0.090000        1.900000   \n",
       "50%         7.900000          0.520000     0.250000        2.200000   \n",
       "75%         9.100000          0.640000     0.420000        2.600000   \n",
       "max        15.900000          1.580000     1.000000       15.500000   \n",
       "\n",
       "         chlorides  free sulfur dioxide  total sulfur dioxide      density  \\\n",
       "count  1143.000000          1143.000000           1143.000000  1143.000000   \n",
       "mean      0.086933            15.615486             45.914698     0.996730   \n",
       "std       0.047267            10.250486             32.782130     0.001925   \n",
       "min       0.012000             1.000000              6.000000     0.990070   \n",
       "25%       0.070000             7.000000             21.000000     0.995570   \n",
       "50%       0.079000            13.000000             37.000000     0.996680   \n",
       "75%       0.090000            21.000000             61.000000     0.997845   \n",
       "max       0.611000            68.000000            289.000000     1.003690   \n",
       "\n",
       "                pH    sulphates      alcohol      quality  \n",
       "count  1143.000000  1143.000000  1143.000000  1143.000000  \n",
       "mean      3.311015     0.657708    10.442111     5.657043  \n",
       "std       0.156664     0.170399     1.082196     0.805824  \n",
       "min       2.740000     0.330000     8.400000     3.000000  \n",
       "25%       3.205000     0.550000     9.500000     5.000000  \n",
       "50%       3.310000     0.620000    10.200000     6.000000  \n",
       "75%       3.400000     0.730000    11.100000     6.000000  \n",
       "max       4.010000     2.000000    14.900000     8.000000  "
      ]
     },
     "execution_count": 7,
     "metadata": {},
     "output_type": "execute_result"
    }
   ],
   "source": [
    "df.describe()"
   ]
  },
  {
   "cell_type": "code",
   "execution_count": 9,
   "metadata": {},
   "outputs": [
    {
     "data": {
      "text/plain": [
       "<seaborn.axisgrid.FacetGrid at 0x1c1647430c8>"
      ]
     },
     "execution_count": 9,
     "metadata": {},
     "output_type": "execute_result"
    },
    {
     "data": {
      "image/png": "[encoded data removed]",
      "text/plain": [
       "<Figure size 360x360 with 1 Axes>"
      ]
     },
     "metadata": {
      "needs_background": "light"
     },
     "output_type": "display_data"
    }
   ],
   "source": [
    "sns.displot(df['quality'], kde=False, bins=12, color ='red')"
   ]
  },
  {
   "cell_type": "code",
   "execution_count": 13,
   "metadata": {},
   "outputs": [],
   "source": [
    "#Create correlation matrix\n",
    "dfc = df.corr()"
   ]
  },
  {
   "cell_type": "code",
   "execution_count": 14,
   "metadata": {},
   "outputs": [
    {
     "data": {
      "text/plain": [
       "<AxesSubplot:>"
      ]
     },
     "execution_count": 14,
     "metadata": {},
     "output_type": "execute_result"
    },
    {
     "data": {
      "image/png": "[encoded data removed]",
      "text/plain": [
       "<Figure size 864x576 with 2 Axes>"
      ]
     },
     "metadata": {
      "needs_background": "light"
     },
     "output_type": "display_data"
    }
   ],
   "source": [
    "#Visualize correlation with heatmap\n",
    "plt.figure(figsize=(12,8))\n",
    "sns.heatmap(dfc, cmap='coolwarm', linecolor='white', linewidths=1)"
   ]
  },
  {
   "cell_type": "code",
   "execution_count": 12,
   "metadata": {},
   "outputs": [
    {
     "data": {
      "text/html": [
       "<div>\n",
       "<style scoped>\n",
       "    .dataframe tbody tr th:only-of-type {\n",
       "        vertical-align: middle;\n",
       "    }\n",
       "\n",
       "    .dataframe tbody tr th {\n",
       "        vertical-align: top;\n",
       "    }\n",
       "\n",
       "    .dataframe thead th {\n",
       "        text-align: right;\n",
       "    }\n",
       "</style>\n",
       "<table border=\"1\" class=\"dataframe\">\n",
       "  <thead>\n",
       "    <tr style=\"text-align: right;\">\n",
       "      <th></th>\n",
       "      <th>fixed acidity</th>\n",
       "      <th>volatile acidity</th>\n",
       "      <th>citric acid</th>\n",
       "      <th>residual sugar</th>\n",
       "      <th>chlorides</th>\n",
       "      <th>free sulfur dioxide</th>\n",
       "      <th>total sulfur dioxide</th>\n",
       "      <th>density</th>\n",
       "      <th>pH</th>\n",
       "      <th>sulphates</th>\n",
       "      <th>alcohol</th>\n",
       "      <th>quality</th>\n",
       "    </tr>\n",
       "  </thead>\n",
       "  <tbody>\n",
       "    <tr>\n",
       "      <th>fixed acidity</th>\n",
       "      <td>1.000000</td>\n",
       "      <td>-0.250728</td>\n",
       "      <td>0.673157</td>\n",
       "      <td>0.171831</td>\n",
       "      <td>0.107889</td>\n",
       "      <td>-0.164831</td>\n",
       "      <td>-0.110628</td>\n",
       "      <td>0.681501</td>\n",
       "      <td>-0.685163</td>\n",
       "      <td>0.174592</td>\n",
       "      <td>-0.075055</td>\n",
       "      <td>0.121970</td>\n",
       "    </tr>\n",
       "    <tr>\n",
       "      <th>volatile acidity</th>\n",
       "      <td>-0.250728</td>\n",
       "      <td>1.000000</td>\n",
       "      <td>-0.544187</td>\n",
       "      <td>-0.005751</td>\n",
       "      <td>0.056336</td>\n",
       "      <td>-0.001962</td>\n",
       "      <td>0.077748</td>\n",
       "      <td>0.016512</td>\n",
       "      <td>0.221492</td>\n",
       "      <td>-0.276079</td>\n",
       "      <td>-0.203909</td>\n",
       "      <td>-0.407394</td>\n",
       "    </tr>\n",
       "    <tr>\n",
       "      <th>citric acid</th>\n",
       "      <td>0.673157</td>\n",
       "      <td>-0.544187</td>\n",
       "      <td>1.000000</td>\n",
       "      <td>0.175815</td>\n",
       "      <td>0.245312</td>\n",
       "      <td>-0.057589</td>\n",
       "      <td>0.036871</td>\n",
       "      <td>0.375243</td>\n",
       "      <td>-0.546339</td>\n",
       "      <td>0.331232</td>\n",
       "      <td>0.106250</td>\n",
       "      <td>0.240821</td>\n",
       "    </tr>\n",
       "    <tr>\n",
       "      <th>residual sugar</th>\n",
       "      <td>0.171831</td>\n",
       "      <td>-0.005751</td>\n",
       "      <td>0.175815</td>\n",
       "      <td>1.000000</td>\n",
       "      <td>0.070863</td>\n",
       "      <td>0.165339</td>\n",
       "      <td>0.190790</td>\n",
       "      <td>0.380147</td>\n",
       "      <td>-0.116959</td>\n",
       "      <td>0.017475</td>\n",
       "      <td>0.058421</td>\n",
       "      <td>0.022002</td>\n",
       "    </tr>\n",
       "    <tr>\n",
       "      <th>chlorides</th>\n",
       "      <td>0.107889</td>\n",
       "      <td>0.056336</td>\n",
       "      <td>0.245312</td>\n",
       "      <td>0.070863</td>\n",
       "      <td>1.000000</td>\n",
       "      <td>0.015280</td>\n",
       "      <td>0.048163</td>\n",
       "      <td>0.208901</td>\n",
       "      <td>-0.277759</td>\n",
       "      <td>0.374784</td>\n",
       "      <td>-0.229917</td>\n",
       "      <td>-0.124085</td>\n",
       "    </tr>\n",
       "    <tr>\n",
       "      <th>free sulfur dioxide</th>\n",
       "      <td>-0.164831</td>\n",
       "      <td>-0.001962</td>\n",
       "      <td>-0.057589</td>\n",
       "      <td>0.165339</td>\n",
       "      <td>0.015280</td>\n",
       "      <td>1.000000</td>\n",
       "      <td>0.661093</td>\n",
       "      <td>-0.054150</td>\n",
       "      <td>0.072804</td>\n",
       "      <td>0.034445</td>\n",
       "      <td>-0.047095</td>\n",
       "      <td>-0.063260</td>\n",
       "    </tr>\n",
       "    <tr>\n",
       "      <th>total sulfur dioxide</th>\n",
       "      <td>-0.110628</td>\n",
       "      <td>0.077748</td>\n",
       "      <td>0.036871</td>\n",
       "      <td>0.190790</td>\n",
       "      <td>0.048163</td>\n",
       "      <td>0.661093</td>\n",
       "      <td>1.000000</td>\n",
       "      <td>0.050175</td>\n",
       "      <td>-0.059126</td>\n",
       "      <td>0.026894</td>\n",
       "      <td>-0.188165</td>\n",
       "      <td>-0.183339</td>\n",
       "    </tr>\n",
       "    <tr>\n",
       "      <th>density</th>\n",
       "      <td>0.681501</td>\n",
       "      <td>0.016512</td>\n",
       "      <td>0.375243</td>\n",
       "      <td>0.380147</td>\n",
       "      <td>0.208901</td>\n",
       "      <td>-0.054150</td>\n",
       "      <td>0.050175</td>\n",
       "      <td>1.000000</td>\n",
       "      <td>-0.352775</td>\n",
       "      <td>0.143139</td>\n",
       "      <td>-0.494727</td>\n",
       "      <td>-0.175208</td>\n",
       "    </tr>\n",
       "    <tr>\n",
       "      <th>pH</th>\n",
       "      <td>-0.685163</td>\n",
       "      <td>0.221492</td>\n",
       "      <td>-0.546339</td>\n",
       "      <td>-0.116959</td>\n",
       "      <td>-0.277759</td>\n",
       "      <td>0.072804</td>\n",
       "      <td>-0.059126</td>\n",
       "      <td>-0.352775</td>\n",
       "      <td>1.000000</td>\n",
       "      <td>-0.185499</td>\n",
       "      <td>0.225322</td>\n",
       "      <td>-0.052453</td>\n",
       "    </tr>\n",
       "    <tr>\n",
       "      <th>sulphates</th>\n",
       "      <td>0.174592</td>\n",
       "      <td>-0.276079</td>\n",
       "      <td>0.331232</td>\n",
       "      <td>0.017475</td>\n",
       "      <td>0.374784</td>\n",
       "      <td>0.034445</td>\n",
       "      <td>0.026894</td>\n",
       "      <td>0.143139</td>\n",
       "      <td>-0.185499</td>\n",
       "      <td>1.000000</td>\n",
       "      <td>0.094421</td>\n",
       "      <td>0.257710</td>\n",
       "    </tr>\n",
       "    <tr>\n",
       "      <th>alcohol</th>\n",
       "      <td>-0.075055</td>\n",
       "      <td>-0.203909</td>\n",
       "      <td>0.106250</td>\n",
       "      <td>0.058421</td>\n",
       "      <td>-0.229917</td>\n",
       "      <td>-0.047095</td>\n",
       "      <td>-0.188165</td>\n",
       "      <td>-0.494727</td>\n",
       "      <td>0.225322</td>\n",
       "      <td>0.094421</td>\n",
       "      <td>1.000000</td>\n",
       "      <td>0.484866</td>\n",
       "    </tr>\n",
       "    <tr>\n",
       "      <th>quality</th>\n",
       "      <td>0.121970</td>\n",
       "      <td>-0.407394</td>\n",
       "      <td>0.240821</td>\n",
       "      <td>0.022002</td>\n",
       "      <td>-0.124085</td>\n",
       "      <td>-0.063260</td>\n",
       "      <td>-0.183339</td>\n",
       "      <td>-0.175208</td>\n",
       "      <td>-0.052453</td>\n",
       "      <td>0.257710</td>\n",
       "      <td>0.484866</td>\n",
       "      <td>1.000000</td>\n",
       "    </tr>\n",
       "  </tbody>\n",
       "</table>\n",
       "</div>"
      ],
      "text/plain": [
       "                      fixed acidity  volatile acidity  citric acid  \\\n",
       "fixed acidity              1.000000         -0.250728     0.673157   \n",
       "volatile acidity          -0.250728          1.000000    -0.544187   \n",
       "citric acid                0.673157         -0.544187     1.000000   \n",
       "residual sugar             0.171831         -0.005751     0.175815   \n",
       "chlorides                  0.107889          0.056336     0.245312   \n",
       "free sulfur dioxide       -0.164831         -0.001962    -0.057589   \n",
       "total sulfur dioxide      -0.110628          0.077748     0.036871   \n",
       "density                    0.681501          0.016512     0.375243   \n",
       "pH                        -0.685163          0.221492    -0.546339   \n",
       "sulphates                  0.174592         -0.276079     0.331232   \n",
       "alcohol                   -0.075055         -0.203909     0.106250   \n",
       "quality                    0.121970         -0.407394     0.240821   \n",
       "\n",
       "                      residual sugar  chlorides  free sulfur dioxide  \\\n",
       "fixed acidity               0.171831   0.107889            -0.164831   \n",
       "volatile acidity           -0.005751   0.056336            -0.001962   \n",
       "citric acid                 0.175815   0.245312            -0.057589   \n",
       "residual sugar              1.000000   0.070863             0.165339   \n",
       "chlorides                   0.070863   1.000000             0.015280   \n",
       "free sulfur dioxide         0.165339   0.015280             1.000000   \n",
       "total sulfur dioxide        0.190790   0.048163             0.661093   \n",
       "density                     0.380147   0.208901            -0.054150   \n",
       "pH                         -0.116959  -0.277759             0.072804   \n",
       "sulphates                   0.017475   0.374784             0.034445   \n",
       "alcohol                     0.058421  -0.229917            -0.047095   \n",
       "quality                     0.022002  -0.124085            -0.063260   \n",
       "\n",
       "                      total sulfur dioxide   density        pH  sulphates  \\\n",
       "fixed acidity                    -0.110628  0.681501 -0.685163   0.174592   \n",
       "volatile acidity                  0.077748  0.016512  0.221492  -0.276079   \n",
       "citric acid                       0.036871  0.375243 -0.546339   0.331232   \n",
       "residual sugar                    0.190790  0.380147 -0.116959   0.017475   \n",
       "chlorides                         0.048163  0.208901 -0.277759   0.374784   \n",
       "free sulfur dioxide               0.661093 -0.054150  0.072804   0.034445   \n",
       "total sulfur dioxide              1.000000  0.050175 -0.059126   0.026894   \n",
       "density                           0.050175  1.000000 -0.352775   0.143139   \n",
       "pH                               -0.059126 -0.352775  1.000000  -0.185499   \n",
       "sulphates                         0.026894  0.143139 -0.185499   1.000000   \n",
       "alcohol                          -0.188165 -0.494727  0.225322   0.094421   \n",
       "quality                          -0.183339 -0.175208 -0.052453   0.257710   \n",
       "\n",
       "                       alcohol   quality  \n",
       "fixed acidity        -0.075055  0.121970  \n",
       "volatile acidity     -0.203909 -0.407394  \n",
       "citric acid           0.106250  0.240821  \n",
       "residual sugar        0.058421  0.022002  \n",
       "chlorides            -0.229917 -0.124085  \n",
       "free sulfur dioxide  -0.047095 -0.063260  \n",
       "total sulfur dioxide -0.188165 -0.183339  \n",
       "density              -0.494727 -0.175208  \n",
       "pH                    0.225322 -0.052453  \n",
       "sulphates             0.094421  0.257710  \n",
       "alcohol               1.000000  0.484866  \n",
       "quality               0.484866  1.000000  "
      ]
     },
     "execution_count": 12,
     "metadata": {},
     "output_type": "execute_result"
    }
   ],
   "source": [
    "dfc"
   ]
  },
  {
   "cell_type": "code",
   "execution_count": 11,
   "metadata": {},
   "outputs": [
    {
     "data": {
      "text/plain": [
       "fixed acidity           0.121970\n",
       "volatile acidity       -0.407394\n",
       "citric acid             0.240821\n",
       "residual sugar          0.022002\n",
       "chlorides              -0.124085\n",
       "free sulfur dioxide    -0.063260\n",
       "total sulfur dioxide   -0.183339\n",
       "density                -0.175208\n",
       "pH                     -0.052453\n",
       "sulphates               0.257710\n",
       "alcohol                 0.484866\n",
       "quality                 1.000000\n",
       "Name: quality, dtype: float64"
      ]
     },
     "execution_count": 11,
     "metadata": {},
     "output_type": "execute_result"
    }
   ],
   "source": [
    "dfc['quality']"
   ]
  },
  {
   "cell_type": "code",
   "execution_count": 39,
   "metadata": {},
   "outputs": [],
   "source": [
    "#Predictors with an absolute correlation value of more than 0.2 are important\n",
    "#Alcohol, volatile acidity, sulphates and citric acid seems to be key for predicting quality."
   ]
  },
  {
   "cell_type": "code",
   "execution_count": 40,
   "metadata": {},
   "outputs": [
    {
     "data": {
      "text/plain": [
       "<seaborn.axisgrid.JointGrid at 0x1485406e588>"
      ]
     },
     "execution_count": 40,
     "metadata": {},
     "output_type": "execute_result"
    },
    {
     "data": {
      "image/png": "[encoded data removed]",
      "text/plain": [
       "<Figure size 432x432 with 3 Axes>"
      ]
     },
     "metadata": {
      "needs_background": "light"
     },
     "output_type": "display_data"
    }
   ],
   "source": [
    "sns.jointplot(x='alcohol', y='quality', data=df, kind='reg')"
   ]
  },
  {
   "cell_type": "code",
   "execution_count": 41,
   "metadata": {},
   "outputs": [
    {
     "data": {
      "text/plain": [
       "<seaborn.axisgrid.PairGrid at 0x14854160e48>"
      ]
     },
     "execution_count": 41,
     "metadata": {},
     "output_type": "execute_result"
    },
    {
     "data": {
      "image/png": "[encoded data removed]",
      "text/plain": [
       "<Figure size 1080x360 with 3 Axes>"
      ]
     },
     "metadata": {
      "needs_background": "light"
     },
     "output_type": "display_data"
    }
   ],
   "source": [
    "sns.pairplot(df, x_vars=['volatile acidity', 'sulphates', 'citric acid'], y_vars = 'quality', kind='reg', height=5)"
   ]
  },
  {
   "cell_type": "markdown",
   "metadata": {},
   "source": [
    "# Part 3: Statistical Analysis"
   ]
  },
  {
   "cell_type": "code",
   "execution_count": 23,
   "metadata": {},
   "outputs": [],
   "source": [
    "#Multiple linear regression with the variables we highlighted as dependent variables"
   ]
  },
  {
   "cell_type": "code",
   "execution_count": 30,
   "metadata": {},
   "outputs": [
    {
     "data": {
      "text/html": [
       "<div>\n",
       "<style scoped>\n",
       "    .dataframe tbody tr th:only-of-type {\n",
       "        vertical-align: middle;\n",
       "    }\n",
       "\n",
       "    .dataframe tbody tr th {\n",
       "        vertical-align: top;\n",
       "    }\n",
       "\n",
       "    .dataframe thead th {\n",
       "        text-align: right;\n",
       "    }\n",
       "</style>\n",
       "<table border=\"1\" class=\"dataframe\">\n",
       "  <thead>\n",
       "    <tr style=\"text-align: right;\">\n",
       "      <th></th>\n",
       "      <th>fixed acidity</th>\n",
       "      <th>volatile acidity</th>\n",
       "      <th>citric acid</th>\n",
       "      <th>residual sugar</th>\n",
       "      <th>chlorides</th>\n",
       "      <th>free sulfur dioxide</th>\n",
       "      <th>total sulfur dioxide</th>\n",
       "      <th>density</th>\n",
       "      <th>pH</th>\n",
       "      <th>sulphates</th>\n",
       "      <th>alcohol</th>\n",
       "      <th>quality</th>\n",
       "    </tr>\n",
       "  </thead>\n",
       "  <tbody>\n",
       "    <tr>\n",
       "      <th>0</th>\n",
       "      <td>7.4</td>\n",
       "      <td>0.70</td>\n",
       "      <td>0.00</td>\n",
       "      <td>1.9</td>\n",
       "      <td>0.076</td>\n",
       "      <td>11.0</td>\n",
       "      <td>34.0</td>\n",
       "      <td>0.9978</td>\n",
       "      <td>3.51</td>\n",
       "      <td>0.56</td>\n",
       "      <td>9.4</td>\n",
       "      <td>5</td>\n",
       "    </tr>\n",
       "    <tr>\n",
       "      <th>1</th>\n",
       "      <td>7.8</td>\n",
       "      <td>0.88</td>\n",
       "      <td>0.00</td>\n",
       "      <td>2.6</td>\n",
       "      <td>0.098</td>\n",
       "      <td>25.0</td>\n",
       "      <td>67.0</td>\n",
       "      <td>0.9968</td>\n",
       "      <td>3.20</td>\n",
       "      <td>0.68</td>\n",
       "      <td>9.8</td>\n",
       "      <td>5</td>\n",
       "    </tr>\n",
       "    <tr>\n",
       "      <th>2</th>\n",
       "      <td>7.8</td>\n",
       "      <td>0.76</td>\n",
       "      <td>0.04</td>\n",
       "      <td>2.3</td>\n",
       "      <td>0.092</td>\n",
       "      <td>15.0</td>\n",
       "      <td>54.0</td>\n",
       "      <td>0.9970</td>\n",
       "      <td>3.26</td>\n",
       "      <td>0.65</td>\n",
       "      <td>9.8</td>\n",
       "      <td>5</td>\n",
       "    </tr>\n",
       "    <tr>\n",
       "      <th>3</th>\n",
       "      <td>11.2</td>\n",
       "      <td>0.28</td>\n",
       "      <td>0.56</td>\n",
       "      <td>1.9</td>\n",
       "      <td>0.075</td>\n",
       "      <td>17.0</td>\n",
       "      <td>60.0</td>\n",
       "      <td>0.9980</td>\n",
       "      <td>3.16</td>\n",
       "      <td>0.58</td>\n",
       "      <td>9.8</td>\n",
       "      <td>6</td>\n",
       "    </tr>\n",
       "    <tr>\n",
       "      <th>4</th>\n",
       "      <td>7.4</td>\n",
       "      <td>0.70</td>\n",
       "      <td>0.00</td>\n",
       "      <td>1.9</td>\n",
       "      <td>0.076</td>\n",
       "      <td>11.0</td>\n",
       "      <td>34.0</td>\n",
       "      <td>0.9978</td>\n",
       "      <td>3.51</td>\n",
       "      <td>0.56</td>\n",
       "      <td>9.4</td>\n",
       "      <td>5</td>\n",
       "    </tr>\n",
       "  </tbody>\n",
       "</table>\n",
       "</div>"
      ],
      "text/plain": [
       "   fixed acidity  volatile acidity  citric acid  residual sugar  chlorides  \\\n",
       "0            7.4              0.70         0.00             1.9      0.076   \n",
       "1            7.8              0.88         0.00             2.6      0.098   \n",
       "2            7.8              0.76         0.04             2.3      0.092   \n",
       "3           11.2              0.28         0.56             1.9      0.075   \n",
       "4            7.4              0.70         0.00             1.9      0.076   \n",
       "\n",
       "   free sulfur dioxide  total sulfur dioxide  density    pH  sulphates  \\\n",
       "0                 11.0                  34.0   0.9978  3.51       0.56   \n",
       "1                 25.0                  67.0   0.9968  3.20       0.68   \n",
       "2                 15.0                  54.0   0.9970  3.26       0.65   \n",
       "3                 17.0                  60.0   0.9980  3.16       0.58   \n",
       "4                 11.0                  34.0   0.9978  3.51       0.56   \n",
       "\n",
       "   alcohol  quality  \n",
       "0      9.4        5  \n",
       "1      9.8        5  \n",
       "2      9.8        5  \n",
       "3      9.8        6  \n",
       "4      9.4        5  "
      ]
     },
     "execution_count": 30,
     "metadata": {},
     "output_type": "execute_result"
    }
   ],
   "source": [
    "df.head()"
   ]
  },
  {
   "cell_type": "code",
   "execution_count": 31,
   "metadata": {},
   "outputs": [],
   "source": [
    "import statsmodels.formula.api as smf"
   ]
  },
  {
   "cell_type": "code",
   "execution_count": 32,
   "metadata": {},
   "outputs": [],
   "source": [
    "lm1 = smf.ols(formula='quality ~ alcohol + Q(\"volatile acidity\") + Q(\"citric acid\") + sulphates', data=df).fit()"
   ]
  },
  {
   "cell_type": "code",
   "execution_count": 33,
   "metadata": {},
   "outputs": [
    {
     "data": {
      "text/html": [
       "<table class=\"simpletable\">\n",
       "<caption>OLS Regression Results</caption>\n",
       "<tr>\n",
       "  <th>Dep. Variable:</th>         <td>quality</td>     <th>  R-squared:         </th> <td>   0.353</td> \n",
       "</tr>\n",
       "<tr>\n",
       "  <th>Model:</th>                   <td>OLS</td>       <th>  Adj. R-squared:    </th> <td>   0.350</td> \n",
       "</tr>\n",
       "<tr>\n",
       "  <th>Method:</th>             <td>Least Squares</td>  <th>  F-statistic:       </th> <td>   154.9</td> \n",
       "</tr>\n",
       "<tr>\n",
       "  <th>Date:</th>             <td>Mon, 04 Apr 2022</td> <th>  Prob (F-statistic):</th> <td>7.57e-106</td>\n",
       "</tr>\n",
       "<tr>\n",
       "  <th>Time:</th>                 <td>18:43:53</td>     <th>  Log-Likelihood:    </th> <td> -1126.1</td> \n",
       "</tr>\n",
       "<tr>\n",
       "  <th>No. Observations:</th>      <td>  1143</td>      <th>  AIC:               </th> <td>   2262.</td> \n",
       "</tr>\n",
       "<tr>\n",
       "  <th>Df Residuals:</th>          <td>  1138</td>      <th>  BIC:               </th> <td>   2287.</td> \n",
       "</tr>\n",
       "<tr>\n",
       "  <th>Df Model:</th>              <td>     4</td>      <th>                     </th>     <td> </td>    \n",
       "</tr>\n",
       "<tr>\n",
       "  <th>Covariance Type:</th>      <td>nonrobust</td>    <th>                     </th>     <td> </td>    \n",
       "</tr>\n",
       "</table>\n",
       "<table class=\"simpletable\">\n",
       "<tr>\n",
       "            <td></td>               <th>coef</th>     <th>std err</th>      <th>t</th>      <th>P>|t|</th>  <th>[0.025</th>    <th>0.975]</th>  \n",
       "</tr>\n",
       "<tr>\n",
       "  <th>Intercept</th>             <td>    2.6939</td> <td>    0.233</td> <td>   11.587</td> <td> 0.000</td> <td>    2.238</td> <td>    3.150</td>\n",
       "</tr>\n",
       "<tr>\n",
       "  <th>alcohol</th>               <td>    0.3080</td> <td>    0.018</td> <td>   16.959</td> <td> 0.000</td> <td>    0.272</td> <td>    0.344</td>\n",
       "</tr>\n",
       "<tr>\n",
       "  <th>Q(\"volatile acidity\")</th> <td>   -1.2898</td> <td>    0.130</td> <td>   -9.894</td> <td> 0.000</td> <td>   -1.546</td> <td>   -1.034</td>\n",
       "</tr>\n",
       "<tr>\n",
       "  <th>Q(\"citric acid\")</th>      <td>   -0.0263</td> <td>    0.120</td> <td>   -0.220</td> <td> 0.826</td> <td>   -0.261</td> <td>    0.208</td>\n",
       "</tr>\n",
       "<tr>\n",
       "  <th>sulphates</th>             <td>    0.6687</td> <td>    0.121</td> <td>    5.548</td> <td> 0.000</td> <td>    0.432</td> <td>    0.905</td>\n",
       "</tr>\n",
       "</table>\n",
       "<table class=\"simpletable\">\n",
       "<tr>\n",
       "  <th>Omnibus:</th>       <td>16.927</td> <th>  Durbin-Watson:     </th> <td>   1.761</td>\n",
       "</tr>\n",
       "<tr>\n",
       "  <th>Prob(Omnibus):</th> <td> 0.000</td> <th>  Jarque-Bera (JB):  </th> <td>  28.217</td>\n",
       "</tr>\n",
       "<tr>\n",
       "  <th>Skew:</th>          <td>-0.067</td> <th>  Prob(JB):          </th> <td>7.46e-07</td>\n",
       "</tr>\n",
       "<tr>\n",
       "  <th>Kurtosis:</th>      <td> 3.758</td> <th>  Cond. No.          </th> <td>    139.</td>\n",
       "</tr>\n",
       "</table><br/><br/>Notes:<br/>[1] Standard Errors assume that the covariance matrix of the errors is correctly specified."
      ],
      "text/plain": [
       "<class 'statsmodels.iolib.summary.Summary'>\n",
       "\"\"\"\n",
       "                            OLS Regression Results                            \n",
       "==============================================================================\n",
       "Dep. Variable:                quality   R-squared:                       0.353\n",
       "Model:                            OLS   Adj. R-squared:                  0.350\n",
       "Method:                 Least Squares   F-statistic:                     154.9\n",
       "Date:                Mon, 04 Apr 2022   Prob (F-statistic):          7.57e-106\n",
       "Time:                        18:43:53   Log-Likelihood:                -1126.1\n",
       "No. Observations:                1143   AIC:                             2262.\n",
       "Df Residuals:                    1138   BIC:                             2287.\n",
       "Df Model:                           4                                         \n",
       "Covariance Type:            nonrobust                                         \n",
       "=========================================================================================\n",
       "                            coef    std err          t      P>|t|      [0.025      0.975]\n",
       "-----------------------------------------------------------------------------------------\n",
       "Intercept                 2.6939      0.233     11.587      0.000       2.238       3.150\n",
       "alcohol                   0.3080      0.018     16.959      0.000       0.272       0.344\n",
       "Q(\"volatile acidity\")    -1.2898      0.130     -9.894      0.000      -1.546      -1.034\n",
       "Q(\"citric acid\")         -0.0263      0.120     -0.220      0.826      -0.261       0.208\n",
       "sulphates                 0.6687      0.121      5.548      0.000       0.432       0.905\n",
       "==============================================================================\n",
       "Omnibus:                       16.927   Durbin-Watson:                   1.761\n",
       "Prob(Omnibus):                  0.000   Jarque-Bera (JB):               28.217\n",
       "Skew:                          -0.067   Prob(JB):                     7.46e-07\n",
       "Kurtosis:                       3.758   Cond. No.                         139.\n",
       "==============================================================================\n",
       "\n",
       "Notes:\n",
       "[1] Standard Errors assume that the covariance matrix of the errors is correctly specified.\n",
       "\"\"\""
      ]
     },
     "execution_count": 33,
     "metadata": {},
     "output_type": "execute_result"
    }
   ],
   "source": [
    "lm1.summary()"
   ]
  },
  {
   "cell_type": "code",
   "execution_count": 34,
   "metadata": {},
   "outputs": [],
   "source": [
    "#Every coefficient is statistically significant in determining the quality of the wine except for citric acid"
   ]
  },
  {
   "cell_type": "code",
   "execution_count": 35,
   "metadata": {},
   "outputs": [],
   "source": [
    "lm2 = smf.ols(formula='quality ~ alcohol + Q(\"volatile acidity\") + sulphates', data=df).fit()"
   ]
  },
  {
   "cell_type": "code",
   "execution_count": 37,
   "metadata": {},
   "outputs": [
    {
     "data": {
      "text/html": [
       "<table class=\"simpletable\">\n",
       "<caption>OLS Regression Results</caption>\n",
       "<tr>\n",
       "  <th>Dep. Variable:</th>         <td>quality</td>     <th>  R-squared:         </th> <td>   0.353</td> \n",
       "</tr>\n",
       "<tr>\n",
       "  <th>Model:</th>                   <td>OLS</td>       <th>  Adj. R-squared:    </th> <td>   0.351</td> \n",
       "</tr>\n",
       "<tr>\n",
       "  <th>Method:</th>             <td>Least Squares</td>  <th>  F-statistic:       </th> <td>   206.7</td> \n",
       "</tr>\n",
       "<tr>\n",
       "  <th>Date:</th>             <td>Mon, 04 Apr 2022</td> <th>  Prob (F-statistic):</th> <td>4.96e-107</td>\n",
       "</tr>\n",
       "<tr>\n",
       "  <th>Time:</th>                 <td>18:44:27</td>     <th>  Log-Likelihood:    </th> <td> -1126.2</td> \n",
       "</tr>\n",
       "<tr>\n",
       "  <th>No. Observations:</th>      <td>  1143</td>      <th>  AIC:               </th> <td>   2260.</td> \n",
       "</tr>\n",
       "<tr>\n",
       "  <th>Df Residuals:</th>          <td>  1139</td>      <th>  BIC:               </th> <td>   2280.</td> \n",
       "</tr>\n",
       "<tr>\n",
       "  <th>Df Model:</th>              <td>     3</td>      <th>                     </th>     <td> </td>    \n",
       "</tr>\n",
       "<tr>\n",
       "  <th>Covariance Type:</th>      <td>nonrobust</td>    <th>                     </th>     <td> </td>    \n",
       "</tr>\n",
       "</table>\n",
       "<table class=\"simpletable\">\n",
       "<tr>\n",
       "            <td></td>               <th>coef</th>     <th>std err</th>      <th>t</th>      <th>P>|t|</th>  <th>[0.025</th>    <th>0.975]</th>  \n",
       "</tr>\n",
       "<tr>\n",
       "  <th>Intercept</th>             <td>    2.6826</td> <td>    0.227</td> <td>   11.836</td> <td> 0.000</td> <td>    2.238</td> <td>    3.127</td>\n",
       "</tr>\n",
       "<tr>\n",
       "  <th>alcohol</th>               <td>    0.3080</td> <td>    0.018</td> <td>   16.971</td> <td> 0.000</td> <td>    0.272</td> <td>    0.344</td>\n",
       "</tr>\n",
       "<tr>\n",
       "  <th>Q(\"volatile acidity\")</th> <td>   -1.2756</td> <td>    0.113</td> <td>  -11.263</td> <td> 0.000</td> <td>   -1.498</td> <td>   -1.053</td>\n",
       "</tr>\n",
       "<tr>\n",
       "  <th>sulphates</th>             <td>    0.6628</td> <td>    0.117</td> <td>    5.645</td> <td> 0.000</td> <td>    0.432</td> <td>    0.893</td>\n",
       "</tr>\n",
       "</table>\n",
       "<table class=\"simpletable\">\n",
       "<tr>\n",
       "  <th>Omnibus:</th>       <td>16.995</td> <th>  Durbin-Watson:     </th> <td>   1.761</td>\n",
       "</tr>\n",
       "<tr>\n",
       "  <th>Prob(Omnibus):</th> <td> 0.000</td> <th>  Jarque-Bera (JB):  </th> <td>  28.282</td>\n",
       "</tr>\n",
       "<tr>\n",
       "  <th>Skew:</th>          <td>-0.070</td> <th>  Prob(JB):          </th> <td>7.22e-07</td>\n",
       "</tr>\n",
       "<tr>\n",
       "  <th>Kurtosis:</th>      <td> 3.758</td> <th>  Cond. No.          </th> <td>    133.</td>\n",
       "</tr>\n",
       "</table><br/><br/>Notes:<br/>[1] Standard Errors assume that the covariance matrix of the errors is correctly specified."
      ],
      "text/plain": [
       "<class 'statsmodels.iolib.summary.Summary'>\n",
       "\"\"\"\n",
       "                            OLS Regression Results                            \n",
       "==============================================================================\n",
       "Dep. Variable:                quality   R-squared:                       0.353\n",
       "Model:                            OLS   Adj. R-squared:                  0.351\n",
       "Method:                 Least Squares   F-statistic:                     206.7\n",
       "Date:                Mon, 04 Apr 2022   Prob (F-statistic):          4.96e-107\n",
       "Time:                        18:44:27   Log-Likelihood:                -1126.2\n",
       "No. Observations:                1143   AIC:                             2260.\n",
       "Df Residuals:                    1139   BIC:                             2280.\n",
       "Df Model:                           3                                         \n",
       "Covariance Type:            nonrobust                                         \n",
       "=========================================================================================\n",
       "                            coef    std err          t      P>|t|      [0.025      0.975]\n",
       "-----------------------------------------------------------------------------------------\n",
       "Intercept                 2.6826      0.227     11.836      0.000       2.238       3.127\n",
       "alcohol                   0.3080      0.018     16.971      0.000       0.272       0.344\n",
       "Q(\"volatile acidity\")    -1.2756      0.113    -11.263      0.000      -1.498      -1.053\n",
       "sulphates                 0.6628      0.117      5.645      0.000       0.432       0.893\n",
       "==============================================================================\n",
       "Omnibus:                       16.995   Durbin-Watson:                   1.761\n",
       "Prob(Omnibus):                  0.000   Jarque-Bera (JB):               28.282\n",
       "Skew:                          -0.070   Prob(JB):                     7.22e-07\n",
       "Kurtosis:                       3.758   Cond. No.                         133.\n",
       "==============================================================================\n",
       "\n",
       "Notes:\n",
       "[1] Standard Errors assume that the covariance matrix of the errors is correctly specified.\n",
       "\"\"\""
      ]
     },
     "execution_count": 37,
     "metadata": {},
     "output_type": "execute_result"
    }
   ],
   "source": [
    "lm2.summary()"
   ]
  },
  {
   "cell_type": "code",
   "execution_count": 43,
   "metadata": {},
   "outputs": [],
   "source": [
    "# Removing citric acid leaves the R-squared (fraction of explained variance) unchanged, but the F-statistic improves and\n",
    "# AIC and BIC scores are marginally lower"
   ]
  },
  {
   "cell_type": "markdown",
   "metadata": {},
   "source": [
    "# Part 4: ML Classification"
   ]
  },
  {
   "cell_type": "markdown",
   "metadata": {},
   "source": [
    "## Logistic Regression Classification"
   ]
  },
  {
   "cell_type": "markdown",
   "metadata": {},
   "source": [
    "Since quality can take six different values we use multinomial logistic regression"
   ]
  },
  {
   "cell_type": "code",
   "execution_count": 15,
   "metadata": {},
   "outputs": [],
   "source": [
    "from sklearn.linear_model import LogisticRegression\n",
    "from sklearn.model_selection import train_test_split\n",
    "from sklearn.preprocessing import StandardScaler"
   ]
  },
  {
   "cell_type": "code",
   "execution_count": 16,
   "metadata": {},
   "outputs": [],
   "source": [
    "# Separate dependent and independent variables\n",
    "X = df.drop('quality', axis=1)\n",
    "y = df['quality']"
   ]
  },
  {
   "cell_type": "code",
   "execution_count": 17,
   "metadata": {},
   "outputs": [],
   "source": [
    "# Scale data to help training\n",
    "scaler = StandardScaler()\n",
    "scaler.fit(X)\n",
    "Xscale = scaler.transform(X)"
   ]
  },
  {
   "cell_type": "code",
   "execution_count": 18,
   "metadata": {},
   "outputs": [],
   "source": [
    "# Split data into training and test sets\n",
    "X_train, X_test, y_train, y_test = train_test_split(Xscale, y,\n",
    "        test_size=0.33, random_state=42)"
   ]
  },
  {
   "cell_type": "code",
   "execution_count": 19,
   "metadata": {},
   "outputs": [],
   "source": [
    "# Create a Logistic Regression model\n",
    "logreg = LogisticRegression(multi_class='multinomial', solver='lbfgs')"
   ]
  },
  {
   "cell_type": "code",
   "execution_count": 20,
   "metadata": {},
   "outputs": [
    {
     "data": {
      "text/plain": [
       "LogisticRegression(multi_class='multinomial')"
      ]
     },
     "execution_count": 20,
     "metadata": {},
     "output_type": "execute_result"
    }
   ],
   "source": [
    "logreg.fit(X_train, y_train)"
   ]
  },
  {
   "cell_type": "markdown",
   "metadata": {},
   "source": [
    "### Performance Evaluation with K-Fold Cross-Validation"
   ]
  },
  {
   "cell_type": "code",
   "execution_count": 76,
   "metadata": {},
   "outputs": [],
   "source": [
    "from sklearn.model_selection import RepeatedStratifiedKFold\n",
    "from sklearn.model_selection import cross_val_score\n",
    "from sklearn.metrics import classification_report\n",
    "from sklearn import metrics\n",
    "from numpy import mean\n",
    "from numpy import std"
   ]
  },
  {
   "cell_type": "code",
   "execution_count": 41,
   "metadata": {},
   "outputs": [],
   "source": [
    "cv = RepeatedStratifiedKFold(n_splits=5, n_repeats=3, random_state=1)"
   ]
  },
  {
   "cell_type": "code",
   "execution_count": 23,
   "metadata": {},
   "outputs": [],
   "source": [
    "n_scores = cross_val_score(logreg, X_train, y_train, scoring='accuracy', cv=cv, n_jobs=-1)"
   ]
  },
  {
   "cell_type": "code",
   "execution_count": 24,
   "metadata": {
    "scrolled": true
   },
   "outputs": [
    {
     "name": "stdout",
     "output_type": "stream",
     "text": [
      "Mean Accuracy: 0.594 (0.023)\n"
     ]
    }
   ],
   "source": [
    "print('Mean Accuracy: %.3f (%.3f)' % (mean(n_scores), std(n_scores)))"
   ]
  },
  {
   "cell_type": "markdown",
   "metadata": {},
   "source": [
    "### Predictions"
   ]
  },
  {
   "cell_type": "code",
   "execution_count": 74,
   "metadata": {},
   "outputs": [],
   "source": [
    "pred_log = logreg.predict(X_test)"
   ]
  },
  {
   "cell_type": "code",
   "execution_count": 95,
   "metadata": {},
   "outputs": [
    {
     "name": "stdout",
     "output_type": "stream",
     "text": [
      "Test metrics:\n",
      "              precision    recall  f1-score   support\n",
      "\n",
      "           3       1.00      0.00      0.00         1\n",
      "           4       0.00      0.00      0.00         9\n",
      "           5       0.66      0.77      0.71       158\n",
      "           6       0.60      0.63      0.61       158\n",
      "           7       0.61      0.36      0.45        47\n",
      "           8       1.00      0.00      0.00         5\n",
      "\n",
      "    accuracy                           0.63       378\n",
      "   macro avg       0.64      0.29      0.30       378\n",
      "weighted avg       0.62      0.63      0.61       378\n",
      "\n"
     ]
    }
   ],
   "source": [
    "print(\"Test metrics:\")\n",
    "print(sklearn.metrics.classification_report(y_true= y_test, y_pred= pred_log, zero_division=1))"
   ]
  },
  {
   "cell_type": "code",
   "execution_count": 79,
   "metadata": {},
   "outputs": [],
   "source": [
    "# The logistic regression model has 63 % test accuracy\n",
    "# No qualities of 3, 4 or 5 are predicted"
   ]
  },
  {
   "cell_type": "markdown",
   "metadata": {},
   "source": [
    "## Random Forest Classification"
   ]
  },
  {
   "cell_type": "code",
   "execution_count": 50,
   "metadata": {},
   "outputs": [],
   "source": [
    "from sklearn.model_selection import StratifiedKFold\n",
    "from sklearn.ensemble import RandomForestClassifier\n",
    "import sklearn"
   ]
  },
  {
   "cell_type": "code",
   "execution_count": 43,
   "metadata": {},
   "outputs": [
    {
     "data": {
      "text/plain": [
       "RandomForestClassifier()"
      ]
     },
     "execution_count": 43,
     "metadata": {},
     "output_type": "execute_result"
    }
   ],
   "source": [
    "rf = RandomForestClassifier()\n",
    "rf.fit(X_train,y_train)"
   ]
  },
  {
   "cell_type": "markdown",
   "metadata": {},
   "source": [
    "### Predictions Without Tuning Hyperparameters"
   ]
  },
  {
   "cell_type": "code",
   "execution_count": 45,
   "metadata": {},
   "outputs": [],
   "source": [
    "# predictions\n",
    "pred_rf = rf.predict(X_test)"
   ]
  },
  {
   "cell_type": "code",
   "execution_count": 96,
   "metadata": {},
   "outputs": [
    {
     "name": "stdout",
     "output_type": "stream",
     "text": [
      "Test metrics:\n",
      "              precision    recall  f1-score   support\n",
      "\n",
      "           3       1.00      0.00      0.00         1\n",
      "           4       1.00      0.00      0.00         9\n",
      "           5       0.68      0.77      0.72       158\n",
      "           6       0.62      0.65      0.63       158\n",
      "           7       0.72      0.55      0.63        47\n",
      "           8       1.00      0.20      0.33         5\n",
      "\n",
      "    accuracy                           0.66       378\n",
      "   macro avg       0.84      0.36      0.39       378\n",
      "weighted avg       0.68      0.66      0.65       378\n",
      "\n"
     ]
    }
   ],
   "source": [
    "print(\"Test metrics:\")\n",
    "print(sklearn.metrics.classification_report(y_true= y_test, y_pred= pred_rf, zero_division=1))"
   ]
  },
  {
   "cell_type": "code",
   "execution_count": 52,
   "metadata": {},
   "outputs": [],
   "source": [
    "# Random Forest test accuracy without tuning hyperparameters is 66%\n",
    "# The model didn't predict any wine to be of quality 3 or 4"
   ]
  },
  {
   "cell_type": "markdown",
   "metadata": {},
   "source": [
    "### Tuning Hyperparameters with Grid Search"
   ]
  },
  {
   "cell_type": "code",
   "execution_count": 56,
   "metadata": {},
   "outputs": [],
   "source": [
    "from sklearn.model_selection import GridSearchCV"
   ]
  },
  {
   "cell_type": "code",
   "execution_count": 57,
   "metadata": {},
   "outputs": [],
   "source": [
    "clf = GridSearchCV(rf, param_grid={'n_estimators':[100,200],'min_samples_leaf':[2,3]})"
   ]
  },
  {
   "cell_type": "code",
   "execution_count": 63,
   "metadata": {},
   "outputs": [],
   "source": [
    "# Tune\n",
    "gridCV = clf.fit(X_train,y_train)"
   ]
  },
  {
   "cell_type": "code",
   "execution_count": 64,
   "metadata": {},
   "outputs": [],
   "source": [
    "# Predictions with tuned model\n",
    "pred_rf_grid = gridCV.predict(X_test)"
   ]
  },
  {
   "cell_type": "code",
   "execution_count": 97,
   "metadata": {},
   "outputs": [
    {
     "name": "stdout",
     "output_type": "stream",
     "text": [
      "Test metrics:\n",
      "              precision    recall  f1-score   support\n",
      "\n",
      "           3       1.00      0.00      0.00         1\n",
      "           4       1.00      0.00      0.00         9\n",
      "           5       0.70      0.77      0.73       158\n",
      "           6       0.64      0.68      0.66       158\n",
      "           7       0.66      0.49      0.56        47\n",
      "           8       1.00      0.20      0.33         5\n",
      "\n",
      "    accuracy                           0.67       378\n",
      "   macro avg       0.83      0.36      0.38       378\n",
      "weighted avg       0.68      0.67      0.66       378\n",
      "\n"
     ]
    }
   ],
   "source": [
    "print(\"Test metrics:\")\n",
    "print(sklearn.metrics.classification_report(y_true= y_test, y_pred= pred_rf_grid, zero_division=1))"
   ]
  },
  {
   "cell_type": "code",
   "execution_count": 66,
   "metadata": {},
   "outputs": [],
   "source": [
    "# Test accuracy is now 67%, 1 percent better\n",
    "# No qualities of 3 or 4 are predicted still"
   ]
  },
  {
   "cell_type": "markdown",
   "metadata": {},
   "source": [
    "## Decision Tree Classification"
   ]
  },
  {
   "cell_type": "code",
   "execution_count": 68,
   "metadata": {},
   "outputs": [],
   "source": [
    "from sklearn.tree import DecisionTreeClassifier"
   ]
  },
  {
   "cell_type": "code",
   "execution_count": 69,
   "metadata": {},
   "outputs": [
    {
     "data": {
      "text/plain": [
       "DecisionTreeClassifier()"
      ]
     },
     "execution_count": 69,
     "metadata": {},
     "output_type": "execute_result"
    }
   ],
   "source": [
    "dt = DecisionTreeClassifier()\n",
    "dt.fit(X_train,y_train)"
   ]
  },
  {
   "cell_type": "markdown",
   "metadata": {},
   "source": [
    "### Predictions Without Tuning Hyperparameters"
   ]
  },
  {
   "cell_type": "code",
   "execution_count": 70,
   "metadata": {},
   "outputs": [],
   "source": [
    "# predictions\n",
    "pred_dt = dt.predict(X_test)"
   ]
  },
  {
   "cell_type": "code",
   "execution_count": 71,
   "metadata": {},
   "outputs": [
    {
     "name": "stdout",
     "output_type": "stream",
     "text": [
      "Test metrics:\n",
      "              precision    recall  f1-score   support\n",
      "\n",
      "           3       0.00      0.00      0.00         1\n",
      "           4       0.06      0.11      0.08         9\n",
      "           5       0.65      0.66      0.66       158\n",
      "           6       0.57      0.50      0.53       158\n",
      "           7       0.36      0.40      0.38        47\n",
      "           8       0.17      0.20      0.18         5\n",
      "\n",
      "    accuracy                           0.54       378\n",
      "   macro avg       0.30      0.31      0.31       378\n",
      "weighted avg       0.56      0.54      0.55       378\n",
      "\n"
     ]
    }
   ],
   "source": [
    "print(\"Test metrics:\")\n",
    "print(sklearn.metrics.classification_report(y_true= y_test, y_pred= pred_dt))"
   ]
  },
  {
   "cell_type": "code",
   "execution_count": 81,
   "metadata": {},
   "outputs": [],
   "source": [
    "# Test accuracy is 54 % without tuning hyperparameters\n",
    "# 3 is the only quality not predicted"
   ]
  },
  {
   "cell_type": "markdown",
   "metadata": {},
   "source": [
    "### Tuning Hyperparameters with Grid Search"
   ]
  },
  {
   "cell_type": "code",
   "execution_count": 102,
   "metadata": {},
   "outputs": [],
   "source": [
    "param_dict = {\n",
    "    \"criterion\":['gini','entropy'],\n",
    "    \"max_depth\":range(1,10),\n",
    "    \"min_samples_split\":range(2,10),\n",
    "    \"min_samples_leaf\":range(1,5)\n",
    "}"
   ]
  },
  {
   "cell_type": "code",
   "execution_count": 103,
   "metadata": {},
   "outputs": [],
   "source": [
    "grid = GridSearchCV(dt, param_grid=param_dict,cv=5,verbose=0,n_jobs=1)"
   ]
  },
  {
   "cell_type": "code",
   "execution_count": 104,
   "metadata": {},
   "outputs": [
    {
     "data": {
      "text/plain": [
       "GridSearchCV(cv=5, estimator=DecisionTreeClassifier(), n_jobs=1,\n",
       "             param_grid={'criterion': ['gini', 'entropy'],\n",
       "                         'max_depth': range(1, 10),\n",
       "                         'min_samples_leaf': range(1, 5),\n",
       "                         'min_samples_split': range(2, 10)})"
      ]
     },
     "execution_count": 104,
     "metadata": {},
     "output_type": "execute_result"
    }
   ],
   "source": [
    "grid.fit(X_train,y_train)"
   ]
  },
  {
   "cell_type": "code",
   "execution_count": 105,
   "metadata": {},
   "outputs": [
    {
     "data": {
      "text/plain": [
       "{'criterion': 'entropy',\n",
       " 'max_depth': 3,\n",
       " 'min_samples_leaf': 1,\n",
       " 'min_samples_split': 2}"
      ]
     },
     "execution_count": 105,
     "metadata": {},
     "output_type": "execute_result"
    }
   ],
   "source": [
    "grid.best_params_"
   ]
  },
  {
   "cell_type": "code",
   "execution_count": 106,
   "metadata": {},
   "outputs": [
    {
     "data": {
      "text/plain": [
       "DecisionTreeClassifier(criterion='entropy', max_depth=3)"
      ]
     },
     "execution_count": 106,
     "metadata": {},
     "output_type": "execute_result"
    }
   ],
   "source": [
    "grid.best_estimator_"
   ]
  },
  {
   "cell_type": "code",
   "execution_count": 107,
   "metadata": {},
   "outputs": [
    {
     "data": {
      "text/plain": [
       "0.5699346405228758"
      ]
     },
     "execution_count": 107,
     "metadata": {},
     "output_type": "execute_result"
    }
   ],
   "source": [
    "grid.best_score_"
   ]
  },
  {
   "cell_type": "code",
   "execution_count": 108,
   "metadata": {},
   "outputs": [],
   "source": [
    "# Predictions with tuning"
   ]
  },
  {
   "cell_type": "code",
   "execution_count": 109,
   "metadata": {},
   "outputs": [],
   "source": [
    "pred_dt_grid = grid.predict(X_test)"
   ]
  },
  {
   "cell_type": "code",
   "execution_count": 110,
   "metadata": {},
   "outputs": [
    {
     "name": "stdout",
     "output_type": "stream",
     "text": [
      "Test metrics:\n",
      "              precision    recall  f1-score   support\n",
      "\n",
      "           3       1.00      0.00      0.00         1\n",
      "           4       1.00      0.00      0.00         9\n",
      "           5       0.61      0.72      0.66       158\n",
      "           6       0.53      0.51      0.52       158\n",
      "           7       0.49      0.38      0.43        47\n",
      "           8       1.00      0.00      0.00         5\n",
      "\n",
      "    accuracy                           0.56       378\n",
      "   macro avg       0.77      0.27      0.27       378\n",
      "weighted avg       0.57      0.56      0.55       378\n",
      "\n"
     ]
    }
   ],
   "source": [
    "print(\"Test metrics:\")\n",
    "print(sklearn.metrics.classification_report(y_true= y_test, y_pred= pred_dt_grid, zero_division=1))"
   ]
  },
  {
   "cell_type": "code",
   "execution_count": 129,
   "metadata": {},
   "outputs": [],
   "source": [
    "# Test accuracy is 56 % with tuned hyperparameters, 2 percent better\n",
    "# Neither 3, 4 or 8 is a predicted quality"
   ]
  },
  {
   "cell_type": "markdown",
   "metadata": {},
   "source": [
    "## Performance Comparison"
   ]
  },
  {
   "cell_type": "markdown",
   "metadata": {},
   "source": [
    "The Random Forest Classifier performed the best with a test accuracy of 67%. The Logistic Regression Classifier was second with 63% and the Decision Tree Classifier was the worst with only 56 % test accuracy."
   ]
  },
  {
   "cell_type": "markdown",
   "metadata": {},
   "source": [
    "### Bonus: Re-training the Random Forest with Fewer Variables"
   ]
  },
  {
   "cell_type": "code",
   "execution_count": 113,
   "metadata": {},
   "outputs": [],
   "source": [
    "nX = X[['volatile acidity', 'citric acid', 'sulphates', 'alcohol']]"
   ]
  },
  {
   "cell_type": "code",
   "execution_count": 114,
   "metadata": {},
   "outputs": [],
   "source": [
    "scaler.fit(nX)\n",
    "nXscale = scaler.transform(nX)"
   ]
  },
  {
   "cell_type": "code",
   "execution_count": 115,
   "metadata": {},
   "outputs": [],
   "source": [
    "nX_train, nX_test, ny_train, ny_test = train_test_split(nXscale, y,\n",
    "        test_size=0.33, random_state=42)"
   ]
  },
  {
   "cell_type": "code",
   "execution_count": 116,
   "metadata": {},
   "outputs": [
    {
     "data": {
      "text/plain": [
       "RandomForestClassifier()"
      ]
     },
     "execution_count": 116,
     "metadata": {},
     "output_type": "execute_result"
    }
   ],
   "source": [
    "nrf = RandomForestClassifier()\n",
    "nrf.fit(nX_train,ny_train)"
   ]
  },
  {
   "cell_type": "code",
   "execution_count": 117,
   "metadata": {},
   "outputs": [],
   "source": [
    "# predictions\n",
    "pred_nrf = nrf.predict(nX_test)"
   ]
  },
  {
   "cell_type": "code",
   "execution_count": 118,
   "metadata": {},
   "outputs": [
    {
     "name": "stdout",
     "output_type": "stream",
     "text": [
      "Test metrics:\n",
      "              precision    recall  f1-score   support\n",
      "\n",
      "           3       0.00      0.00      0.00         1\n",
      "           4       0.00      0.00      0.00         9\n",
      "           5       0.69      0.77      0.73       158\n",
      "           6       0.62      0.61      0.62       158\n",
      "           7       0.54      0.47      0.50        47\n",
      "           8       1.00      0.20      0.33         5\n",
      "\n",
      "    accuracy                           0.64       378\n",
      "   macro avg       0.47      0.34      0.36       378\n",
      "weighted avg       0.63      0.64      0.63       378\n",
      "\n"
     ]
    }
   ],
   "source": [
    "print(\"Test metrics:\")\n",
    "print(sklearn.metrics.classification_report(y_true= ny_test, y_pred= pred_nrf, zero_division=1))"
   ]
  },
  {
   "cell_type": "code",
   "execution_count": 127,
   "metadata": {},
   "outputs": [],
   "source": [
    "# 64 % test accuracy with 4 variables as compared to 66 % with 12 variables"
   ]
  },
  {
   "cell_type": "markdown",
   "metadata": {},
   "source": [
    "#### Tuning Hyperparameters"
   ]
  },
  {
   "cell_type": "code",
   "execution_count": 121,
   "metadata": {},
   "outputs": [],
   "source": [
    "nclf = GridSearchCV(nrf, param_grid={'n_estimators':[100,200],'min_samples_leaf':[2,3]})"
   ]
  },
  {
   "cell_type": "code",
   "execution_count": 123,
   "metadata": {},
   "outputs": [],
   "source": [
    "ngridCV = clf.fit(nX_train,ny_train)"
   ]
  },
  {
   "cell_type": "code",
   "execution_count": 124,
   "metadata": {},
   "outputs": [],
   "source": [
    "pred_nrf_grid = ngridCV.predict(nX_test)"
   ]
  },
  {
   "cell_type": "code",
   "execution_count": 125,
   "metadata": {},
   "outputs": [
    {
     "name": "stdout",
     "output_type": "stream",
     "text": [
      "Test metrics:\n",
      "              precision    recall  f1-score   support\n",
      "\n",
      "           3       1.00      0.00      0.00         1\n",
      "           4       1.00      0.00      0.00         9\n",
      "           5       0.68      0.78      0.73       158\n",
      "           6       0.61      0.63      0.62       158\n",
      "           7       0.59      0.40      0.48        47\n",
      "           8       1.00      0.00      0.00         5\n",
      "\n",
      "    accuracy                           0.64       378\n",
      "   macro avg       0.81      0.30      0.31       378\n",
      "weighted avg       0.65      0.64      0.62       378\n",
      "\n"
     ]
    }
   ],
   "source": [
    "print(\"Test metrics:\")\n",
    "print(sklearn.metrics.classification_report(y_true= ny_test, y_pred= pred_nrf_grid, zero_division=1))"
   ]
  },
  {
   "cell_type": "code",
   "execution_count": 126,
   "metadata": {},
   "outputs": [],
   "source": [
    "# Still 64 % accuracy"
   ]
  },
  {
   "cell_type": "code",
   "execution_count": null,
   "metadata": {},
   "outputs": [],
   "source": []
  }
 ],
 "metadata": {
  "kernelspec": {
   "display_name": "Python 3 (ipykernel)",
   "language": "python",
   "name": "python3"
  },
  "language_info": {
   "codemirror_mode": {
    "name": "ipython",
    "version": 3
   },
   "file_extension": ".py",
   "mimetype": "text/x-python",
   "name": "python",
   "nbconvert_exporter": "python",
   "pygments_lexer": "ipython3",
   "version": "3.7.13"
  }
 },
 "nbformat": 4,
 "nbformat_minor": 4
}
